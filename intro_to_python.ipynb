{
  "nbformat": 4,
  "nbformat_minor": 0,
  "metadata": {
    "colab": {
      "name": "intro_to_python.ipynb",
      "private_outputs": true,
      "provenance": [],
      "collapsed_sections": [],
      "authorship_tag": "ABX9TyNdEv1DUoXfailwowvZUVgp",
      "include_colab_link": true
    },
    "kernelspec": {
      "name": "python3",
      "display_name": "Python 3"
    },
    "language_info": {
      "name": "python"
    }
  },
  "cells": [
    {
      "cell_type": "markdown",
      "metadata": {
        "id": "view-in-github",
        "colab_type": "text"
      },
      "source": [
        "<a href=\"https://colab.research.google.com/github/kalkairis/intro_to_python/blob/main/intro_to_python.ipynb\" target=\"_parent\"><img src=\"https://colab.research.google.com/assets/colab-badge.svg\" alt=\"Open In Colab\"/></a>"
      ]
    },
    {
      "cell_type": "markdown",
      "metadata": {
        "id": "Uax4WVTWQvGT"
      },
      "source": [
        "#<div dir=rtl> מבוא לתכנות בפייתון</div>"
      ]
    },
    {
      "cell_type": "markdown",
      "metadata": {
        "id": "6fmCm2slQ1UZ"
      },
      "source": [
        "<div dir=rtl>\n",
        "מטרת התרגול היא להכיר את העקרונות של שפת התכנות תוך שימת דגש על ההבדלים בינה לבין שפות תכנות אחרים. מומלץ להריץ את הקוד בעצמכם, לשנות ולהריץ שוב כדי להבין את השינויים.\n",
        "</div>\n"
      ]
    },
    {
      "cell_type": "markdown",
      "metadata": {
        "id": "HCAlLSpDT6Mr"
      },
      "source": [
        "<div dir=rtl>\n",
        "כדי לשמור עותק משלכם של המחברת:\n",
        "\n",
        "1. File\n",
        "2. Save a copy in Drive\n",
        "3. שמרו עותק והריצו במקביל לפגישה!\n",
        "</div>"
      ]
    },
    {
      "cell_type": "markdown",
      "metadata": {
        "id": "8IGdHdgBYqIp"
      },
      "source": [
        "# <div dir=rtl>מאפייני השפה</div>\n",
        "\n",
        "<div dir=rtl>\n",
        "\n",
        "*   קוד קומפקטי - פיתוח קצר ומימוש מהיר\n",
        "*   High level - השפה כוללת מבני נתונים אבסטרקטיים למשל מילונים, רשימות וכו' כטיפוסים פרימיטיביים.\n",
        "*   Interpreted - הקוד מפוענת בעת ריצה ואינו עובר קמפול. \n",
        "*   Dynamic typing - הטיפוס של משתנה אינו ידוע לפני ריצת התוכנית ולאורך התוכנית יכול להשתנות.\n",
        "*   Strongly typed - ערכים לא ישנו טיפוס ללא דרישה מפורשת.\n",
        "*   Object oriented - ניתן לעבוד עם מחלקות,  אובייקטים, ירושה וכו'.\n",
        "\n",
        "</div>"
      ]
    },
    {
      "cell_type": "code",
      "metadata": {
        "id": "FpYhliemU-dM"
      },
      "source": [
        "# זוהי הערה\n",
        "# בתוך תא קוד\n",
        "# כדי להריץ תא יש ללחוץ על אנטר + שיפט\n",
        "# כלום לא יתבצע מכיוון שהתא מכיל הערות בלבד"
      ],
      "execution_count": null,
      "outputs": []
    },
    {
      "cell_type": "code",
      "metadata": {
        "id": "6V0bAREmVWLe"
      },
      "source": [
        ""
      ],
      "execution_count": null,
      "outputs": []
    },
    {
      "cell_type": "code",
      "metadata": {
        "id": "DQOIGayMVni2"
      },
      "source": [
        ""
      ],
      "execution_count": null,
      "outputs": []
    },
    {
      "cell_type": "markdown",
      "metadata": {
        "id": "j4zw7WFZVNB0"
      },
      "source": [
        "\n",
        "# <div dir=rtl>שלום עולם</div>\n",
        "<div dir=rtl>\n",
        "אחת התוכניות הבסיסיות ביותר שנכתבת תמיד ראשונה הינה \"שלום עולם\"\n",
        "</div>\n"
      ]
    },
    {
      "cell_type": "code",
      "metadata": {
        "id": "Y0ki5HlqVphj"
      },
      "source": [
        "# Your name\n",
        "print(\"Hello world!\")"
      ],
      "execution_count": null,
      "outputs": []
    },
    {
      "cell_type": "markdown",
      "metadata": {
        "id": "bsTGX20lWEih"
      },
      "source": [
        "<div dir=rtl>שימו לב, בפייתון אחרי הופעת סולמית (#) יתר השורה הינה הערה ולא תרוץ.</div>"
      ]
    },
    {
      "cell_type": "code",
      "metadata": {
        "id": "zDEcvlYGWQnY"
      },
      "source": [
        "\"Hello world!\""
      ],
      "execution_count": null,
      "outputs": []
    },
    {
      "cell_type": "markdown",
      "metadata": {
        "id": "g2YNk6i7WVpw"
      },
      "source": [
        "## <div dir=rtl>מה ההבדל?</div>\n",
        "<div dir=rtl>\n",
        "פונקציית ההדפסה מדפיסה מחרוזת. במחברות פייתון כאשר בסופו של תא מופיע ערך הוא יוצג בתחתית המחברת.\n",
        "</div>\n"
      ]
    },
    {
      "cell_type": "markdown",
      "metadata": {
        "id": "ykIl1Yz6W_3J"
      },
      "source": [
        "## <div dir=rtl>מעבר לטקסט</div>\n",
        "<div dir=rtl>\n",
        "כאשר תא רץ, טקסט המציג את השורה האחרונה תוצג מתחת לתא.\n",
        "</div>"
      ]
    },
    {
      "cell_type": "code",
      "metadata": {
        "id": "EbiiHtbnWeci"
      },
      "source": [
        "# Your name here\n",
        "a = YOUR OWN NUMBER\n",
        "a"
      ],
      "execution_count": null,
      "outputs": []
    },
    {
      "cell_type": "markdown",
      "metadata": {
        "id": "Fexq2fwlXZ8T"
      },
      "source": [
        "<div dir=rtl>הריצו את התא מעל</div>"
      ]
    },
    {
      "cell_type": "code",
      "metadata": {
        "id": "6QF2nGOrXfRJ"
      },
      "source": [
        "# Iris\n",
        "a = 543\n",
        "print(a)"
      ],
      "execution_count": null,
      "outputs": []
    },
    {
      "cell_type": "markdown",
      "metadata": {
        "id": "6zftn9dgXkN7"
      },
      "source": [
        "<div dir=rtl>\n",
        "\n",
        "# מבוא לפייתון\n",
        "</div>"
      ]
    },
    {
      "cell_type": "markdown",
      "metadata": {
        "id": "CQNTku7vZ0FG"
      },
      "source": [
        "<div dir=rtl>\n",
        "\n",
        "## טיפוסים פרימיטיביים בשפה\n",
        "בפייתון אין הכרזה על המשתנה או על הטיפוס שלו. ניתן לזהות את סוג המשתנה באמצעות הפונקצייה type. \n",
        "</div>"
      ]
    },
    {
      "cell_type": "code",
      "metadata": {
        "id": "A-eAZDY9aDFz"
      },
      "source": [
        "# Integer\n",
        "x = 5 # notice: not `int x = 8;` as in C!\n",
        "print(x)\n",
        "print(type(x))"
      ],
      "execution_count": null,
      "outputs": []
    },
    {
      "cell_type": "code",
      "metadata": {
        "id": "sraSmHLnaKG4"
      },
      "source": [
        "print(x)\n",
        "print(type(x))\n",
        "\n",
        "x = \"aabb\"\n",
        "\n",
        "print(x)\n",
        "print(type(x))"
      ],
      "execution_count": null,
      "outputs": []
    },
    {
      "cell_type": "code",
      "metadata": {
        "id": "depAIm3CaQKO"
      },
      "source": [
        "# Float\n",
        "y = 5.0\n",
        "print(y)\n",
        "print(type(y))"
      ],
      "execution_count": null,
      "outputs": []
    },
    {
      "cell_type": "code",
      "metadata": {
        "id": "V5D4vaijabJG"
      },
      "source": [
        "print(x == y)\n",
        "print(type(x) == type(y))"
      ],
      "execution_count": null,
      "outputs": []
    },
    {
      "cell_type": "code",
      "metadata": {
        "id": "YOx6zngebfII"
      },
      "source": [
        "# Complex\n",
        "z = complex(1, 3)\n",
        "print(z)\n",
        "print(type(z))"
      ],
      "execution_count": null,
      "outputs": []
    },
    {
      "cell_type": "code",
      "metadata": {
        "id": "_T_zQxlTbcYO"
      },
      "source": [
        "# String\n",
        "x = \"ab\"\n",
        "y = 'ab' # Another way of defining a string\n",
        "print(type(x))\n",
        "print(x == y)"
      ],
      "execution_count": null,
      "outputs": []
    },
    {
      "cell_type": "code",
      "metadata": {
        "id": "g6WhB2jibomW"
      },
      "source": [
        "# String concatination\n",
        "z = x + \"zz\"\n",
        "print(z)\n",
        "z += \"xx\"\n",
        "print(z)"
      ],
      "execution_count": null,
      "outputs": []
    },
    {
      "cell_type": "markdown",
      "metadata": {
        "id": "x7xj0UvPb27G"
      },
      "source": [
        "<div style=\"direction:rtl\" dir=\"rtl\">\n",
        "הערה לגבי טיפוסיות: שימו לב שבאתחול הראשוני של המשתנה x שמנו בו ערך מטיפוס מס׳ שלם. לאחר מכן הרשינו לעצמינו לשים באותו המשתנה x ערכים אחרים מטיפוסים אחרים: complex, str. באופן כללי, בפייתון למשתנה אין טיפוס. במהלך חייו של משתנה הוא יכול להכיל ערך מכל טיפוס שהוא, ללא תלות בטיפוסיות של הערך הקודם שהיה באותו המשתנה.\n",
        "</div>"
      ]
    },
    {
      "cell_type": "markdown",
      "metadata": {
        "id": "aoXhtAjJcVR2"
      },
      "source": [
        "<div dir=\"rtl\">\n",
        "    \n",
        "##מבני נתונים בשפה\n",
        "בשפה יש 4 מבני נתונים בסיסיים ושימושיים: tuple, list, set, dict. נציג את אופן השימוש בכל אחד מהם. לכל מבנה נתונים יש ייעוד אחר ו- API שונה. לכל מבנה יש פונקציונליות רבה. נציג כאן רק את הדברים הבסיסיים.\n",
        "</div>"
      ]
    },
    {
      "cell_type": "markdown",
      "metadata": {
        "id": "cVS_ALhUc1pJ"
      },
      "source": [
        "<div dir=rtl>\n",
        "\n",
        "### Tuple\n",
        "\n",
        "\n",
        "**n-יה סדורה**\n",
        "\n",
        "לעיתים נרצה לקבץ מספר ערכים כ-n-יה סדורה (זוג, שלשה, רביעייה,...). דוגמאות?\n",
        "</div>"
      ]
    },
    {
      "cell_type": "code",
      "metadata": {
        "id": "BU4ebTZAcLI4"
      },
      "source": [
        "# Tuple\n",
        "x = (1, 2)\n",
        "print(x)\n",
        "print(type(x))\n",
        "print(x[1])"
      ],
      "execution_count": null,
      "outputs": []
    },
    {
      "cell_type": "markdown",
      "metadata": {
        "id": "GADiL7GodUpv"
      },
      "source": [
        "<div dir=rtl>\n",
        "\n",
        "בהינתן אובייט מסוג tuple לא ניתן לשנות אותו.\n",
        "</div>"
      ]
    },
    {
      "cell_type": "code",
      "metadata": {
        "id": "fZcZ_H2FdTs9"
      },
      "source": [
        "x[0] = 3 # Should throw an error"
      ],
      "execution_count": null,
      "outputs": []
    },
    {
      "cell_type": "markdown",
      "metadata": {
        "id": "nN4mNAXtdoE_"
      },
      "source": [
        "<div dir=rtl>\n",
        "\n",
        "מה לגבי x עצמו? האם נוכל לשנות אותו?\n",
        "</div>"
      ]
    },
    {
      "cell_type": "code",
      "metadata": {
        "id": "5IctbyfJdjBw"
      },
      "source": [
        "print(x)\n",
        "x = (3, 2)\n",
        "print(x)"
      ],
      "execution_count": null,
      "outputs": []
    },
    {
      "cell_type": "markdown",
      "metadata": {
        "id": "eTqcRuWad2XX"
      },
      "source": [
        "<div dir=rtl>\n",
        "\n",
        "### List\n",
        "**רשימה**\n",
        "בשונה מ-tuple, רשימה ניתן לשנות.\n",
        "שינויים כוללים:\n",
        "*  הוספת איברים\n",
        "*  החסרת איברים\n",
        "*  החלפת איברים\n",
        "</div>"
      ]
    },
    {
      "cell_type": "code",
      "metadata": {
        "id": "FhZLIa2Qd0Zn"
      },
      "source": [
        "# List\n",
        "x = [5, \"abc\", 7, 7]\n",
        "print(x)\n",
        "print(type(x))\n",
        "print(type(x[1]))"
      ],
      "execution_count": null,
      "outputs": []
    },
    {
      "cell_type": "code",
      "metadata": {
        "id": "DgFuy7P3eNYH"
      },
      "source": [
        "# Insert obejects into the list\n",
        "x.append(\"a\")\n",
        "x.append((3,5))\n",
        "x.append(['bb', 7])\n",
        "x.remove(5)\n",
        "print(x)"
      ],
      "execution_count": null,
      "outputs": []
    },
    {
      "cell_type": "code",
      "metadata": {
        "id": "ch42pOBKeOkf"
      },
      "source": [
        "x = [5, \"abc\"]\n",
        "x.extend([\"b\", \"c\"])\n",
        "x"
      ],
      "execution_count": null,
      "outputs": []
    },
    {
      "cell_type": "code",
      "metadata": {
        "id": "0P5W4KTDeQbg"
      },
      "source": [
        "x + [\"d\", \"e\"] # unlike extend, creates a new list"
      ],
      "execution_count": null,
      "outputs": []
    },
    {
      "cell_type": "code",
      "metadata": {
        "id": "3tMA6CREeRpG"
      },
      "source": [
        "print(\"abc\" in x)\n",
        "print(\"abcd\" in x)"
      ],
      "execution_count": null,
      "outputs": []
    },
    {
      "cell_type": "code",
      "metadata": {
        "id": "LK34dO7teTFO"
      },
      "source": [
        "del x[1]\n",
        "x"
      ],
      "execution_count": null,
      "outputs": []
    },
    {
      "cell_type": "code",
      "metadata": {
        "id": "_aoZd-MheUM-"
      },
      "source": [
        "x * 2"
      ],
      "execution_count": null,
      "outputs": []
    },
    {
      "cell_type": "code",
      "metadata": {
        "id": "35dCBfVeeVIF"
      },
      "source": [
        "a = [1, 1, 2, 3, 5, 9, 10, 11, 12, 13]\n",
        "print('2 in a?', 'yes' if 2 in a else 'no')\n",
        "print('23 in a?', 'yes' if 23 in a else 'no')"
      ],
      "execution_count": null,
      "outputs": []
    },
    {
      "cell_type": "markdown",
      "metadata": {
        "id": "Z-aXWc0TecpX"
      },
      "source": [
        "<div style=\"direction:rtl\" dir=\"rtl\">\n",
        "הערה לגבי טיפוסיות: אותה רשימה יכולה להכיל אובייקטים מטיפוסים שונים.\n",
        "</div>"
      ]
    },
    {
      "cell_type": "markdown",
      "metadata": {
        "id": "d_JqiWG6ed0-"
      },
      "source": [
        "<div dir=rtl>\n",
        "\n",
        "### Dictionary - מילון\n",
        "מילון (dictionary) הוא מבנה נתונים הדומה למערך אסוציאטיבי. מדובר בסדרת זוגות key-value, כאשר כל מפתח ממופה לאובייקט יחיד.\n",
        "</div>"
      ]
    },
    {
      "cell_type": "code",
      "metadata": {
        "id": "ggYlw58reYPF"
      },
      "source": [
        "# Dictionary: key:value pairs\n",
        "x = {1:'a', 2:88, 'this is a key': 'this is a value'}\n",
        "print(type(x))\n",
        "print(x)\n",
        "print(x[1])\n",
        "print(x[2])\n",
        "print(x['this is a key'])"
      ],
      "execution_count": null,
      "outputs": []
    },
    {
      "cell_type": "code",
      "metadata": {
        "id": "Gm1rgNDxev6u"
      },
      "source": [
        "# dictionary is mutable:"
      ],
      "execution_count": null,
      "outputs": []
    },
    {
      "cell_type": "code",
      "metadata": {
        "id": "4f8g8H1zexY1"
      },
      "source": [
        "# change value for a given key\n",
        "x[1] = 'one'\n",
        "print(x)"
      ],
      "execution_count": null,
      "outputs": []
    },
    {
      "cell_type": "code",
      "metadata": {
        "id": "uGSLX0_deyUO"
      },
      "source": [
        "# delete a key\n",
        "del x[2]\n",
        "print(x)"
      ],
      "execution_count": null,
      "outputs": []
    },
    {
      "cell_type": "code",
      "metadata": {
        "id": "ElNAGniAezQ1"
      },
      "source": [
        "# add another key-value pair\n",
        "x['aaa'] = 'bbb'\n",
        "print(x)"
      ],
      "execution_count": null,
      "outputs": []
    },
    {
      "cell_type": "code",
      "metadata": {
        "id": "c6rmcqSpe0WM"
      },
      "source": [
        "# check (efficiently) whether a given key exists in the dict\n",
        "print(1 in x)\n",
        "print(2 in x)\n",
        "print('aaa' in x)\n",
        "print('a' in x)"
      ],
      "execution_count": null,
      "outputs": []
    },
    {
      "cell_type": "code",
      "metadata": {
        "id": "BAn7ILHFe1wM"
      },
      "source": [
        "x['aaa'] # get the object mapped by the key 'aaa'"
      ],
      "execution_count": null,
      "outputs": []
    },
    {
      "cell_type": "code",
      "metadata": {
        "id": "cupXn5cGe3eD"
      },
      "source": [
        "x['a'] # error: 'a' is not in the dict"
      ],
      "execution_count": null,
      "outputs": []
    },
    {
      "cell_type": "code",
      "metadata": {
        "id": "sI2uvGqTe4dr"
      },
      "source": [
        "print(x.get('aaa'))\n",
        "print(x.get('a'))"
      ],
      "execution_count": null,
      "outputs": []
    },
    {
      "cell_type": "markdown",
      "metadata": {
        "id": "rlNU_4LJfC8t"
      },
      "source": [
        "<div dir=rtl>\n",
        "\n",
        "המפתח של זוג במילון חייב להיות immutable. בפייתון טיפוסים פרימיטיביים (int,str,float) הינם immutable (עוד על כך בסוף מחברת זו). לעומת המפתח, הערך יכול להיות mutable. הנה דוגמא למקרה שבו נרצה להשתמש ב- tuple במקום ב- list.\n",
        "</div>"
      ]
    },
    {
      "cell_type": "code",
      "metadata": {
        "id": "2OCz_tdHe5_-"
      },
      "source": [
        "{[1,2]: 'a'} # error, because list type is mutable (and hence unhashable)"
      ],
      "execution_count": null,
      "outputs": []
    },
    {
      "cell_type": "code",
      "metadata": {
        "id": "oCLAkllrfIOP"
      },
      "source": [
        "{(1,2): 'a'} # it is ok because tuple type is immutable"
      ],
      "execution_count": null,
      "outputs": []
    },
    {
      "cell_type": "markdown",
      "metadata": {
        "id": "u5kRHBTkfKp2"
      },
      "source": [
        "<div dir=rtl>\n",
        "\n",
        "### Set - קבוצה\n",
        "\n",
        "לעיתים לא מעניין אותנו הסדר בין האיברים או כפילויות של איברים. בדומה ל\"שק\" של איברים, נרצה להשתמש בקבוצה.\n",
        "</div>"
      ]
    },
    {
      "cell_type": "code",
      "metadata": {
        "id": "5rbH0tDsfJYO"
      },
      "source": [
        "# Set\n",
        "x = {1, 'a', 7}\n",
        "print(x)\n",
        "print(type(x))"
      ],
      "execution_count": null,
      "outputs": []
    },
    {
      "cell_type": "code",
      "metadata": {
        "id": "hgoqwDV9fVVb"
      },
      "source": [
        "print(1 in x)\n",
        "print(2 in x)\n",
        "print('a' in x)"
      ],
      "execution_count": null,
      "outputs": []
    },
    {
      "cell_type": "code",
      "metadata": {
        "id": "HlJsVI3GfWLL"
      },
      "source": [
        "x.remove(1)\n",
        "x.add(2)\n",
        "print(1 in x)\n",
        "print(2 in x)"
      ],
      "execution_count": null,
      "outputs": []
    },
    {
      "cell_type": "code",
      "metadata": {
        "id": "1a6b8dWgfXT1"
      },
      "source": [
        "print({1,2} | {2,3}) # set union\n",
        "print({1,2} & {2,3}) # set intersection\n",
        "print({1,2} ^ {2,3}) # set symmetric diff"
      ],
      "execution_count": null,
      "outputs": []
    },
    {
      "cell_type": "markdown",
      "metadata": {
        "id": "Gp-eyZ0Sfa4N"
      },
      "source": [
        "<div dir=rtl>\n",
        "\n",
        "### אופרטורים בסיסיים\n",
        "\n",
        "*  `+` חיבור\n",
        "*  `-` חיסור\n",
        "*  `*` כפל\n",
        "*  `/` חלוקה\n",
        "*  `**` חזקה\n",
        "\n",
        "### אופרטורים שאינם בסיסיים\n",
        "\n",
        "*  `//` חלוקה לשלמים\n",
        "*  `%` מודולו\n",
        "</div>"
      ]
    },
    {
      "cell_type": "code",
      "metadata": {
        "id": "JiUKh67pfYS2"
      },
      "source": [
        "# Addition\n",
        "a = 10\n",
        "print(a + 2)"
      ],
      "execution_count": null,
      "outputs": []
    },
    {
      "cell_type": "code",
      "metadata": {
        "id": "-J6dgF_Ui351"
      },
      "source": [
        "# Subtraction\n",
        "print(a - 2)"
      ],
      "execution_count": null,
      "outputs": []
    },
    {
      "cell_type": "code",
      "metadata": {
        "id": "MHYc7hpli5L1"
      },
      "source": [
        "# Multiplication\n",
        "print(a * 2)"
      ],
      "execution_count": null,
      "outputs": []
    },
    {
      "cell_type": "code",
      "metadata": {
        "id": "UdKjMKYqi6SG"
      },
      "source": [
        "# Division\n",
        "print(a/2)"
      ],
      "execution_count": null,
      "outputs": []
    },
    {
      "cell_type": "code",
      "metadata": {
        "id": "Xg5YOAmHi7P1"
      },
      "source": [
        "# Exponentiation\n",
        "b = 2\n",
        "print(a ** b)"
      ],
      "execution_count": null,
      "outputs": []
    },
    {
      "cell_type": "markdown",
      "metadata": {
        "id": "fry7NLDwjVcU"
      },
      "source": [
        "<div dir=rtl>\n",
        "\n",
        "מהי חלוקה לשלמים?\n",
        "</div>"
      ]
    },
    {
      "cell_type": "code",
      "metadata": {
        "id": "naj0kj41jQ_d"
      },
      "source": [
        "# Floor division\n",
        "print(17 // 8)"
      ],
      "execution_count": null,
      "outputs": []
    },
    {
      "cell_type": "markdown",
      "metadata": {
        "id": "pS3vxEHwjefa"
      },
      "source": [
        "<div dir=rtl>\n",
        "\n",
        "מהו מודולו?\n",
        "</div>"
      ]
    },
    {
      "cell_type": "code",
      "metadata": {
        "id": "prD8woZ0jdey"
      },
      "source": [
        "# Modulo\n",
        "print(17 % 9)"
      ],
      "execution_count": null,
      "outputs": []
    },
    {
      "cell_type": "markdown",
      "metadata": {
        "id": "tTu4BCTKjnli"
      },
      "source": [
        "<div dir=rtl>\n",
        "\n",
        "####שימוש במחברת בתור מחשבון\n",
        "\n",
        "ניתן להשתמש במחברת עצמה כמחשבון. בואו נראה כמה זה קל!\n",
        "</div>"
      ]
    },
    {
      "cell_type": "code",
      "metadata": {
        "id": "VYSnP9K5jipj"
      },
      "source": [
        "4.5 // 2, 4.5 % 2"
      ],
      "execution_count": null,
      "outputs": []
    },
    {
      "cell_type": "code",
      "metadata": {
        "id": "LPd-rLJrj0MK"
      },
      "source": [
        "True and False"
      ],
      "execution_count": null,
      "outputs": []
    },
    {
      "cell_type": "code",
      "metadata": {
        "id": "pwMt_yabj1Ji"
      },
      "source": [
        "(1+2j) + (3-1j)"
      ],
      "execution_count": null,
      "outputs": []
    },
    {
      "cell_type": "markdown",
      "metadata": {
        "id": "lEIzHCDrj5SJ"
      },
      "source": [
        "<div dir=rtl>\n",
        "\n",
        "בפייתון ניתן להמיר כל אובייט לערך של אמת או שקר.\n",
        "רוב הערכים נחשבים לTrue. כמה דוגמאות שהן False:\n",
        "\n",
        "*  `None`\n",
        "*  `False`\n",
        "*  אפס מכל סוג מספרי (`0`, `0.0`, `0j`)\n",
        "*  כל רצף ריק (`\"\"`, `()`. `[]`, `{}`)\n",
        "</div>"
      ]
    },
    {
      "cell_type": "code",
      "metadata": {
        "id": "FrrctISIj4VZ"
      },
      "source": [
        "2 or 5>1"
      ],
      "execution_count": null,
      "outputs": []
    },
    {
      "cell_type": "code",
      "metadata": {
        "id": "mP3VIjsUkcmZ"
      },
      "source": [
        "5>1 or 2"
      ],
      "execution_count": null,
      "outputs": []
    },
    {
      "cell_type": "code",
      "metadata": {
        "id": "KouA7a3Qkeh4"
      },
      "source": [
        "5>1 and 2"
      ],
      "execution_count": null,
      "outputs": []
    },
    {
      "cell_type": "markdown",
      "metadata": {
        "id": "Oyna137dkh4f"
      },
      "source": [
        "<div dir=rtl>\n",
        "\n",
        "### if, elif, else\n",
        "</div>"
      ]
    },
    {
      "cell_type": "code",
      "metadata": {
        "id": "KdrBePJzkhXo"
      },
      "source": [
        "x = input()\n",
        "x"
      ],
      "execution_count": null,
      "outputs": []
    },
    {
      "cell_type": "code",
      "metadata": {
        "id": "qsTzwPCIkoPm"
      },
      "source": [
        "x = int(x)\n",
        "x"
      ],
      "execution_count": null,
      "outputs": []
    },
    {
      "cell_type": "code",
      "metadata": {
        "id": "xHufbCQykq-Y"
      },
      "source": [
        "x = 11\n",
        "if x < 0:\n",
        "  print(\"negative\")\n",
        "elif 0 <= x <= 9:\n",
        "  print(\"small\")\n",
        "else:\n",
        "  print(\"large\")"
      ],
      "execution_count": null,
      "outputs": []
    },
    {
      "cell_type": "markdown",
      "metadata": {
        "id": "mKGBq7lkk1xW"
      },
      "source": [
        "<div dir=rtl>\n",
        "\n",
        "כמה הערות:\n",
        "* הפונקציה input משמשת לבקשת קלט מהמשתמש, ומחזירה string\n",
        "* ניתן להמיר בין טיפוסים בעזרת פונ' בשם הטיפוס, למשל int\n",
        "* שימו לב שהתו ':' הוא חלק מהסינטקס של הפקודה\n",
        "* שימו לב שמידת ההזחה קובעת את ה-block של הקוד, ואין שימוש בסוגריים מסולסלות\n",
        "* בשימוש בinterpreter ניתן להכניס פקודה של כמה שורות כמו if. החלון יתן לכם שורת input משנית המתילה ב\"...\"\n",
        "* שימו לב כי יש כאן אפשרות לתנאי משולב על x\n",
        "<div>"
      ]
    },
    {
      "cell_type": "markdown",
      "metadata": {
        "id": "LeTHIL-5lGbY"
      },
      "source": [
        "<div dir=rtl>\n",
        "\n",
        "### While\n",
        "\n",
        "* התו \":\" הוא שוב חלק מהסינטקס בפקודה\n",
        "* ניתן להשתמש בפקודות continue ו-break כמו ב-C\n",
        "* שימו לב לשימוש ב-`while-else`\n",
        "</div>"
      ]
    },
    {
      "cell_type": "code",
      "metadata": {
        "id": "tfZuCdo5kzc-"
      },
      "source": [
        "x = 1234\n",
        "sum = 0\n",
        "\n",
        "while x>0:\n",
        "    sum += x % 10\n",
        "    x //= 10\n",
        "    \n",
        "print(sum)"
      ],
      "execution_count": null,
      "outputs": []
    },
    {
      "cell_type": "markdown",
      "metadata": {
        "id": "iGTK1jmZlXYW"
      },
      "source": [
        "<div dir=rtl>מה חושב בתא הקודם?</div>"
      ]
    },
    {
      "cell_type": "code",
      "metadata": {
        "id": "d2IxFJ7olblt"
      },
      "source": [
        "# while-else example\n",
        "x = 3\n",
        "\n",
        "while x > 0:\n",
        "    print(x)\n",
        "    x -= 1\n",
        "else:\n",
        "    print(\"DONE\")"
      ],
      "execution_count": null,
      "outputs": []
    },
    {
      "cell_type": "code",
      "metadata": {
        "id": "2vQ4SqaLleuU"
      },
      "source": [
        "# Another while-else example\n",
        "x = 3\n",
        "\n",
        "while True:\n",
        "    print(x)\n",
        "    x -= 1\n",
        "    if x <= 0:\n",
        "        break\n",
        "else: # Coupled with the while and not the if due to indentation\n",
        "    print(\"You won't see this!\")\n",
        "    "
      ],
      "execution_count": null,
      "outputs": []
    },
    {
      "cell_type": "markdown",
      "metadata": {
        "id": "0Q1EItlrlhcc"
      },
      "source": [
        "<div dir=rtl>\n",
        "\n",
        "### range() iterator\n",
        "\n",
        "* מייצר סדרות מספרים רצופים.\n",
        "* עצלן מטבעו - יחשב את הערך הבא ברשימה רק כאשר התוכנית משתמשת בו.\n",
        "* הפיכת הפלט לlist תחייב חישוב מראש של כל הרשימה\n",
        "</div>"
      ]
    },
    {
      "cell_type": "code",
      "metadata": {
        "id": "ckYaOv4plg1U"
      },
      "source": [
        "range(5)\n",
        "list(range(5))"
      ],
      "execution_count": null,
      "outputs": []
    },
    {
      "cell_type": "code",
      "metadata": {
        "id": "7TF_m0NMl0fs"
      },
      "source": [
        "range(5)"
      ],
      "execution_count": null,
      "outputs": []
    },
    {
      "cell_type": "code",
      "metadata": {
        "id": "RVAScIxsl10c"
      },
      "source": [
        "list(range(5,8))"
      ],
      "execution_count": null,
      "outputs": []
    },
    {
      "cell_type": "code",
      "metadata": {
        "id": "XEUDQ1z6l2u8"
      },
      "source": [
        "list(range(8,2,-2))"
      ],
      "execution_count": null,
      "outputs": []
    },
    {
      "cell_type": "markdown",
      "metadata": {
        "id": "cOagPnNLl4TE"
      },
      "source": [
        "<div dir=rtl>\n",
        "\n",
        "### List slicing - חיתוך רשימות\n",
        "\n",
        "פייתון מאפשרת לנו לגשת לתת רשימה ע\"י שימוש בסוגריים מרובעות.\n",
        "`[start:end:jump]`\n",
        "</div>"
      ]
    },
    {
      "cell_type": "code",
      "metadata": {
        "id": "1aN38xOOmIGi"
      },
      "source": [
        "list2 = list(range(5)) + list(range(5,8))\n",
        "print(list2)"
      ],
      "execution_count": null,
      "outputs": []
    },
    {
      "cell_type": "code",
      "metadata": {
        "id": "ds5iEQqlmJ4B"
      },
      "source": [
        "list2[3:5]"
      ],
      "execution_count": null,
      "outputs": []
    },
    {
      "cell_type": "code",
      "metadata": {
        "id": "Mm3ho__3mKuR"
      },
      "source": [
        "list2[2:]"
      ],
      "execution_count": null,
      "outputs": []
    },
    {
      "cell_type": "code",
      "metadata": {
        "id": "-Gka6NFUmLep"
      },
      "source": [
        "list2[2:7:2]"
      ],
      "execution_count": null,
      "outputs": []
    },
    {
      "cell_type": "code",
      "metadata": {
        "id": "yC5bV0-jmMTZ"
      },
      "source": [
        "list2[::-1] # Reverse the list!"
      ],
      "execution_count": null,
      "outputs": []
    },
    {
      "cell_type": "code",
      "metadata": {
        "id": "k6RMvcEumNe5"
      },
      "source": [
        "x = 'python'\n",
        "x[::-1]"
      ],
      "execution_count": null,
      "outputs": []
    },
    {
      "cell_type": "code",
      "metadata": {
        "id": "WpdS_t7BmOsw"
      },
      "source": [
        "list2[2:4] = ['A', 'B', 4.2, True]\n",
        "# Different types of objects can be in the same list\n",
        "# Replace part of list with another list of different size\n",
        "\n",
        "list2"
      ],
      "execution_count": null,
      "outputs": []
    },
    {
      "cell_type": "markdown",
      "metadata": {
        "id": "gC4ogIHkmPjm"
      },
      "source": [
        "<div dir=rtl>\n",
        "\n",
        "### for לולאות\n",
        "\n",
        "המילה `in` צריכה להופיע בכדי לבצע איטרציה. ניתן לבצע על מבני נתונים (רשימה, n-יה, מילון, קבוצה), על גנרטורים/איטרטורים (שרובם לא יכוסו בתרגול זה).\n",
        "</div>"
      ]
    },
    {
      "cell_type": "code",
      "metadata": {
        "id": "OoDU4KzMmnZv"
      },
      "source": [
        "for x in range(10):\n",
        "    print(f\"{x} SQ {x**2}\")\n",
        "else:\n",
        "    print(\"I'm done!\")"
      ],
      "execution_count": null,
      "outputs": []
    },
    {
      "cell_type": "markdown",
      "metadata": {
        "id": "_PJ9iBe1m0Sn"
      },
      "source": [
        "<div dir=rtl>\n",
        "\n",
        "## תרגיל\n",
        "\n",
        "במתמטיקה סדרת פיבונאצ'י היא הסדרה ששני איבריה הראשונים הם 0, ו-1.\n",
        "כל איבר לאחר מכן שווה לסכום שני קודמיו.\n",
        "\n",
        "כתבו לולאה המדפיסה את N האיברים הראשונים בסדרת פיבונאצ'י.\n",
        "</div>"
      ]
    },
    {
      "cell_type": "code",
      "metadata": {
        "id": "TCICIlvHmuXY"
      },
      "source": [
        "N = 10\n",
        "a = 0\n",
        "b = 1\n",
        "\n",
        "for i in range(N):\n",
        "    pass\n",
        "    # Add code to print the next item in the series"
      ],
      "execution_count": null,
      "outputs": []
    },
    {
      "cell_type": "markdown",
      "metadata": {
        "id": "Gc8BI4MEnFlt"
      },
      "source": [
        "<div dir=rtl>\n",
        "\n",
        "## הפקודה הריקה - pass\n",
        "הפקודה pass לא עושה כלום. נהוג להשתמש בה בבלוק שהתוכן שלו טרם מומש, במיוחד בעת דיבוג או כתיבת הקוד. \n",
        "זאת מכיוון שבלוק ריק אינו חוקי בשפה.\n",
        "</div>"
      ]
    },
    {
      "cell_type": "code",
      "metadata": {
        "id": "IL99MBNqnS93"
      },
      "source": [
        "for in range(10):\n",
        "  # fix this"
      ],
      "execution_count": null,
      "outputs": []
    },
    {
      "cell_type": "markdown",
      "metadata": {
        "id": "6AvDjpBrneKl"
      },
      "source": [
        "<div dir=rtl>\n",
        "\n",
        "## פתיחת רצף ערכים\n",
        "\n",
        "לפעמים יש לנו tuple/list ואנחנו יודעים מראש מה הגודל שלו (למשל אם הוא חזר מפונק׳ שידוע שמחזירה תמיד זוג ערכים). במקרה כזה לפעמים נוח לנו ״לפרק״ את ה- tuple/list הזה לערכיו. כך ניתן להכניס כל ערך ב- tuple למשתנה בעל שם משמעותי, במקום לגשת לערך ע״י `my_tuple[1]` (פחות קריא, לא ברור מה אמור להיות במקום השני בטאפל). מקרה נפוץ הוא כשמבצעים איטרציה על איטרטור שמחזיר זוגות.\n",
        "</div>"
      ]
    },
    {
      "cell_type": "code",
      "metadata": {
        "id": "I-ELl5aVnpPU"
      },
      "source": [
        "t = ('ido', 24)\n",
        "name, age = t\n",
        "print(name)  # much more informative than `t[0]`\n",
        "print(age)"
      ],
      "execution_count": null,
      "outputs": []
    },
    {
      "cell_type": "code",
      "metadata": {
        "id": "CAwqIWlOnqNk"
      },
      "source": [
        "# same with lists\n",
        "a, b = [1,2]\n",
        "print(a)\n",
        "print(b)"
      ],
      "execution_count": null,
      "outputs": []
    },
    {
      "cell_type": "code",
      "metadata": {
        "id": "94EI6nZsnrDM"
      },
      "source": [
        "d = {1: 'a', 2: 'b', 3: 'c'}"
      ],
      "execution_count": null,
      "outputs": []
    },
    {
      "cell_type": "code",
      "metadata": {
        "id": "mBe_rSaNnsOs"
      },
      "source": [
        "# the `dict.items()` iterator iterates over pairs.\n",
        "for key_value_pair in d.items():\n",
        "    print(key_value_pair)"
      ],
      "execution_count": null,
      "outputs": []
    },
    {
      "cell_type": "code",
      "metadata": {
        "id": "uDEXndAynt-7"
      },
      "source": [
        "# here we expand the pairs into key&value.\n",
        "for key, value in d.items():\n",
        "    print(f'key: {key} ; value: {value}')"
      ],
      "execution_count": null,
      "outputs": []
    },
    {
      "cell_type": "code",
      "metadata": {
        "id": "qW721b7qnx0a"
      },
      "source": [
        "pairs = [(1, 'a'), (2, 'b'), (3, 'c')]"
      ],
      "execution_count": null,
      "outputs": []
    },
    {
      "cell_type": "code",
      "metadata": {
        "id": "-Tx8ZZfiny4C"
      },
      "source": [
        "for pair in pairs:\n",
        "    print(pair)"
      ],
      "execution_count": null,
      "outputs": []
    },
    {
      "cell_type": "code",
      "metadata": {
        "id": "ZJQVnuaOn0TL"
      },
      "source": [
        "for a, b in pairs:\n",
        "    print('a: {} ; b: {}'.format(a, b))"
      ],
      "execution_count": null,
      "outputs": []
    },
    {
      "cell_type": "markdown",
      "metadata": {
        "id": "D50i0Kftn1ze"
      },
      "source": [
        "<div dir=rtl>\n",
        "\n",
        "## Functions\n",
        "</div>\n",
        "\n",
        "```\n",
        "def <func-name>(<parameters>):\n",
        "    ...\n",
        "\n",
        "    return <ret-val>\n",
        "```\n"
      ]
    },
    {
      "cell_type": "code",
      "metadata": {
        "id": "oF__EuVdoEk2"
      },
      "source": [
        "def factorial(n):\n",
        "    result = 1\n",
        "    i = 2\n",
        "    while i <= n:\n",
        "        result = result * i\n",
        "        i += 1\n",
        "    return result "
      ],
      "execution_count": null,
      "outputs": []
    },
    {
      "cell_type": "code",
      "metadata": {
        "id": "JY5THxfSoHzi"
      },
      "source": [
        "\"6!\", factorial(6)"
      ],
      "execution_count": null,
      "outputs": []
    },
    {
      "cell_type": "markdown",
      "metadata": {
        "id": "sxU0ijp5oNjJ"
      },
      "source": [
        "<div style=\"direction:rtl\" dir=\"rtl\">\n",
        "לאחר הגדרת פונקציה, פייתון מייצר אובייקט המייצג אותה, ושם הפונקציה נהיה המזהה שלה (כמו משתנה).\n",
        "<br>\n",
        "ניתן לשמור את האובייקט הזה במשתנה אחר, ויש לו מאפיינים ומתודות כמו כל אובייקט.\n",
        "</div>"
      ]
    },
    {
      "cell_type": "code",
      "metadata": {
        "id": "wQrNDQtKoKQi"
      },
      "source": [
        "f = factorial\n",
        "type(f)"
      ],
      "execution_count": null,
      "outputs": []
    },
    {
      "cell_type": "code",
      "metadata": {
        "id": "dxbCv860oQP4"
      },
      "source": [
        "\"6!\", f(6)"
      ],
      "execution_count": null,
      "outputs": []
    },
    {
      "cell_type": "markdown",
      "metadata": {
        "id": "YkROM4t6oYKa"
      },
      "source": [
        "<div dir=rtl>\n",
        "\n",
        "## List comprehention \n",
        "\n",
        "לפעמים אנחנו רוצים ליצור רשימה מערכים שהגיעו מ- sequence כלשהו.\n",
        "</div>"
      ]
    },
    {
      "cell_type": "code",
      "metadata": {
        "id": "uZe6qarxoe93"
      },
      "source": [
        "[char for char in \"my name\"]"
      ],
      "execution_count": null,
      "outputs": []
    },
    {
      "cell_type": "code",
      "metadata": {
        "id": "ykn6IA46ohmP"
      },
      "source": [
        "# Having a filtering condition\n",
        "[char for char in \"my name\" if char not in {'a', 'e', 'i', 'o', 'u'}]"
      ],
      "execution_count": null,
      "outputs": []
    },
    {
      "cell_type": "code",
      "metadata": {
        "id": "rgKR0s0uoh__"
      },
      "source": [
        "[i**2 for i in range(10)]"
      ],
      "execution_count": null,
      "outputs": []
    },
    {
      "cell_type": "markdown",
      "metadata": {
        "id": "2wJ8c8C5onqo"
      },
      "source": [
        "<div dir=rtl>\n",
        "\n",
        "## Zip\n",
        "\n",
        "לפעמים נרצה לעבור במקביל על מספר רשימות באותו האורך.\n",
        "</div>"
      ]
    },
    {
      "cell_type": "code",
      "metadata": {
        "id": "72SgdNN2o3LG"
      },
      "source": [
        "heights = [110, 230, 150, 315]\n",
        "widths = [70, 65, 90, 87]\n",
        "depths = [50, 45, 76, 65]\n",
        "for h, w, d in zip(heights, widths, depths):\n",
        "    print('cubic metre (m^3):', h * w * d)"
      ],
      "execution_count": null,
      "outputs": []
    },
    {
      "cell_type": "code",
      "metadata": {
        "id": "IWbxBul8o5Pz"
      },
      "source": [
        "keys = range(1,5)\n",
        "values = [chr(i + ord(\"a\") - 1) for i in keys] # List comprehention\n",
        "keys, values"
      ],
      "execution_count": null,
      "outputs": []
    },
    {
      "cell_type": "markdown",
      "metadata": {
        "id": "Zh5eDcnVpAZh"
      },
      "source": [
        "*  ord - Given a string representing one Unicode character, ord returns an *  int representing the character\n",
        "*  chr - the opposite of ord\n",
        "Notice the possibility of creating a list in one line, this is called list comprehention"
      ]
    },
    {
      "cell_type": "code",
      "metadata": {
        "id": "unwPFFmwpFml"
      },
      "source": [
        "list(zip(keys, values))"
      ],
      "execution_count": null,
      "outputs": []
    },
    {
      "cell_type": "code",
      "metadata": {
        "id": "9IqqGZO7pHrZ"
      },
      "source": [
        "NumToLet = dict(list(zip(keys, values)))\n",
        "NumToLet"
      ],
      "execution_count": null,
      "outputs": []
    },
    {
      "cell_type": "markdown",
      "metadata": {
        "id": "nvORuBDDpLyG"
      },
      "source": [
        "<div dir=rtl>\n",
        "\n",
        "### תרגיל\n",
        "\n",
        "עבור הרשימה ['a', 'b', 4, 'c'] השלימו את הקוד כך שבכל שורה תודפס המיקום של איבר ברשימה ותוכנו.\n",
        "\n",
        "פלט צפוי:\n",
        "</div>\n",
        "\n",
        "```\n",
        "0 a\n",
        "1 b\n",
        "2 4\n",
        "3 c\n",
        "```"
      ]
    },
    {
      "cell_type": "code",
      "metadata": {
        "id": "9UUxSVaJpoPA"
      },
      "source": [
        "my_list = ['a', 'b', 4, 'c']\n",
        "for i, v in #fill here :\n",
        "  print(i, v)"
      ],
      "execution_count": null,
      "outputs": []
    },
    {
      "cell_type": "markdown",
      "metadata": {
        "id": "wepj0UKhqAgJ"
      },
      "source": [
        "<div dir=rtl>\n",
        "\n",
        "## Dictionary comprehentions\n",
        "\n",
        "בדומה ליצירת רשימות, גם מילונים ניתן לייצר ע\"י ביטוי דומה.\n",
        "</div>"
      ]
    },
    {
      "cell_type": "code",
      "metadata": {
        "id": "TUg5YBzJpwp6"
      },
      "source": [
        "NumToLet2 = {i+1: chr(ord(\"a\") + i) for i in range(5)}\n",
        "NumToLet2"
      ],
      "execution_count": null,
      "outputs": []
    },
    {
      "cell_type": "markdown",
      "metadata": {
        "id": "mGMTZxiOqOng"
      },
      "source": [
        "<div dir=rtl>\n",
        "\n",
        "## ספריות קיימות\n",
        "\n",
        "אחד הייתרונות הגדולים של שפת פייתון היא הקוד הפתוח. ספריות רבות זמינות באינטרנט ומאפשרות שימוש בקודים קיימים לשיפור ביצועים.\n",
        "</div>"
      ]
    },
    {
      "cell_type": "code",
      "metadata": {
        "id": "RV47zd3RqMBZ"
      },
      "source": [
        "import numpy as np  # a common library for matrices and mathematical operations\n",
        "import time\n",
        "\n",
        "n = 1000000\n",
        "a = np.random.rand(n)  # a is n-dim vector with random variables\n",
        "b = np.random.rand(n)  "
      ],
      "execution_count": null,
      "outputs": []
    },
    {
      "cell_type": "code",
      "metadata": {
        "id": "0aO2CSznqeVK"
      },
      "source": [
        "tic = time.time()\n",
        "c = sum([a[i] * b[i] for i in range(n)])\n",
        "toc = time.time()\n",
        "print(f'c = {c:.2f}')\n",
        "print(f'For loop: {1000 * (toc-tic):.3f} ms')"
      ],
      "execution_count": null,
      "outputs": []
    },
    {
      "cell_type": "code",
      "metadata": {
        "id": "sGY6Csg9qgLr"
      },
      "source": [
        "tic = time.time()\n",
        "c = sum([a[i] * b[i] for i in range(n)])\n",
        "toc = time.time()\n",
        "print(f'c = {c:.2f}')\n",
        "print(f'For loop: {1000 * (toc-tic):.3f} ms')"
      ],
      "execution_count": null,
      "outputs": []
    },
    {
      "cell_type": "markdown",
      "metadata": {
        "id": "ng9qre7nqhkk"
      },
      "source": [
        "<div dir=rtl>\n",
        "\n",
        "## Classes - מחלקות\n",
        "\n",
        "* כדאי להוריש מחלקות חדשות מobject\n",
        "* self הוא שם קונוונציה ל\"this\"\n",
        "* ניתן להגדיר ערכים דיפולטיים לארגומטים של פונציה בעזרת שימוש ב'='\n",
        "* משתנים פנימיים במחלקה מוגדרים ברגע שמוצב לתוכם ערך. לפני כן המחלקה אינה מודעת לקיומם, ואין צורך \"להכריז\" עליהם במקום נוסף.\n",
        "</dir>"
      ]
    },
    {
      "cell_type": "code",
      "metadata": {
        "id": "iF9oqV6_qrd2"
      },
      "source": [
        "class Tree(object):\n",
        "    def __init__(self, data, children = ()):\n",
        "        self.data = data\n",
        "        self.children = children\n",
        "    def prettyprint(self, indent=\"\"):\n",
        "        print(indent + self.data)\n",
        "        for child in self.children:\n",
        "            child.prettyprint(indent + \" \")\n",
        "            \n",
        "t111 = Tree(\"111\")\n",
        "t112 = Tree(\"112\")\n",
        "t11 = Tree(\"11\", (t111, t112))\n",
        "t12 = Tree(\"12\")\n",
        "t1 = Tree(\"1\", (t11, t12))\n",
        "t1.prettyprint()"
      ],
      "execution_count": null,
      "outputs": []
    },
    {
      "cell_type": "code",
      "metadata": {
        "id": "bRGPeUmmqssb"
      },
      "source": [
        ""
      ],
      "execution_count": null,
      "outputs": []
    }
  ]
}