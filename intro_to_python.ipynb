{
  "nbformat": 4,
  "nbformat_minor": 0,
  "metadata": {
    "colab": {
      "name": "intro_to_python.ipynb",
      "private_outputs": true,
      "provenance": [],
      "authorship_tag": "ABX9TyNJ4dOqwwfqXAs6wDpOmu7q",
      "include_colab_link": true
    },
    "kernelspec": {
      "name": "python3",
      "display_name": "Python 3"
    },
    "language_info": {
      "name": "python"
    }
  },
  "cells": [
    {
      "cell_type": "markdown",
      "metadata": {
        "id": "view-in-github",
        "colab_type": "text"
      },
      "source": [
        "<a href=\"https://colab.research.google.com/github/kalkairis/intro_to_python/blob/main/intro_to_python.ipynb\" target=\"_parent\"><img src=\"https://colab.research.google.com/assets/colab-badge.svg\" alt=\"Open In Colab\"/></a>"
      ]
    },
    {
      "cell_type": "markdown",
      "metadata": {
        "id": "Uax4WVTWQvGT"
      },
      "source": [
        "# מבוא לתכנות בפייתון"
      ]
    },
    {
      "cell_type": "markdown",
      "metadata": {
        "id": "6fmCm2slQ1UZ"
      },
      "source": [
        "מטרת התרגול היא להכיר את העקרונות של שפת התכנות תוך שימת דגש על ההבדלים בינה לבין שפות תכנות אחרים. מומלץ להריץ את הקוד בעצמכם, לשנות ולהריץ שוב כדי להבין את השינויים.\n"
      ]
    },
    {
      "cell_type": "code",
      "metadata": {
        "id": "tiHKHKDBQyZf"
      },
      "source": [
        ""
      ],
      "execution_count": null,
      "outputs": []
    }
  ]
}